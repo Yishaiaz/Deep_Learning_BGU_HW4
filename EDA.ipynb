{
 "cells": [
  {
   "cell_type": "code",
   "execution_count": 30,
   "metadata": {
    "collapsed": true
   },
   "outputs": [],
   "source": [
    "# IMPORTS\n",
    "from preprocessing_utils import *\n",
    "from global_vars import *\n",
    "from random_forest_model import *\n",
    "from GAN_network_vanila import *\n",
    "import pandas as pd\n",
    "from typing import Tuple\n",
    "from sklearn.preprocessing import LabelEncoder, MinMaxScaler\n"
   ]
  },
  {
   "cell_type": "code",
   "execution_count": 31,
   "outputs": [],
   "source": [
    "# get number of unique values in each column\n",
    "d_unique_vals = {}\n",
    "d_unique_vals_cnt = {}\n",
    "d_data_df, d_df_attributes = read_arff_as_dataframe(DIABETES_PATH)\n",
    "for col in d_data_df.columns:\n",
    "    d_unique_vals[col] = d_data_df[col].unique()\n",
    "    d_unique_vals_cnt[col] = len(d_unique_vals[col])\n",
    "\n",
    "g_unique_vals = {}\n",
    "g_unique_vals_cnt = {}\n",
    "g_data_df, g_df_attributes = read_arff_as_dataframe(G_CREDIT_PATH)\n",
    "for col in g_data_df.columns:\n",
    "    g_unique_vals[col] = g_data_df[col].unique()\n",
    "    g_unique_vals_cnt[col] = len(g_unique_vals[col])"
   ],
   "metadata": {
    "collapsed": false,
    "pycharm": {
     "name": "#%%\n"
    }
   }
  },
  {
   "cell_type": "code",
   "execution_count": 11,
   "outputs": [
    {
     "name": "stdout",
     "output_type": "stream",
     "text": [
      "number of nans in diabetes df 0\n",
      "number of nans in german df 0\n"
     ]
    }
   ],
   "source": [
    "# are there any nan values?\n",
    "print(f\"number of nans in diabetes df {d_data_df.isna().values.sum()}\")\n",
    "print(f\"number of nans in german df {g_data_df.isna().values.sum()}\")"
   ],
   "metadata": {
    "collapsed": false,
    "pycharm": {
     "name": "#%%\n"
    }
   }
  },
  {
   "cell_type": "code",
   "execution_count": 15,
   "outputs": [
    {
     "name": "stdout",
     "output_type": "stream",
     "text": [
      "for diabetes: \n",
      "b'tested_negative'    500\n",
      "b'tested_positive'    268\n",
      "Name: class, dtype: int64\n",
      "for german: \n",
      "b'1'    700\n",
      "b'2'    300\n",
      "Name: 21, dtype: int64\n"
     ]
    }
   ],
   "source": [
    "# get number of each class\n",
    "print(f\"for diabetes: \\n{d_data_df['class'].value_counts()}\")\n",
    "print(f\"for german: \\n{g_data_df['21'].value_counts()}\")"
   ],
   "metadata": {
    "collapsed": false,
    "pycharm": {
     "name": "#%%\n"
    }
   }
  },
  {
   "cell_type": "code",
   "execution_count": 17,
   "outputs": [
    {
     "name": "stdout",
     "output_type": "stream",
     "text": [
      "categorical columns: \n",
      "Index(['class'], dtype='object')\n",
      "categorical columns: \n",
      "Index(['1', '3', '4', '6', '7', '9', '10', '12', '14', '15', '17', '19', '20',\n",
      "       '21'],\n",
      "      dtype='object')\n"
     ]
    }
   ],
   "source": [
    "print(f\"categorical columns: \\n{d_data_df.select_dtypes(include=['object']).copy().columns}\")\n",
    "print(f\"categorical columns: \\n{g_data_df.select_dtypes(include=['object']).copy().columns}\")"
   ],
   "metadata": {
    "collapsed": false,
    "pycharm": {
     "name": "#%%\n"
    }
   }
  },
  {
   "cell_type": "code",
   "execution_count": 33,
   "outputs": [],
   "source": [
    "# to look at the scaled dataframes\n",
    "from collections import defaultdict\n",
    "df = d_data_df.copy() # or g_data_df.copy()\n",
    "d = defaultdict(LabelEncoder)\n",
    "s = defaultdict(MinMaxScaler)\n",
    "cols_to_encode = df.select_dtypes(include=['object']).copy().columns\n",
    "fit = df.apply(lambda x: d[x.name].fit_transform(x) if x.name in cols_to_encode else x)\n",
    "scaled = fit.apply(lambda x: (x-x.values.min())/(x.values.max()-x.values.min()))"
   ],
   "metadata": {
    "collapsed": false,
    "pycharm": {
     "name": "#%%\n"
    }
   }
  }
 ],
 "metadata": {
  "kernelspec": {
   "display_name": "Python 3",
   "language": "python",
   "name": "python3"
  },
  "language_info": {
   "codemirror_mode": {
    "name": "ipython",
    "version": 2
   },
   "file_extension": ".py",
   "mimetype": "text/x-python",
   "name": "python",
   "nbconvert_exporter": "python",
   "pygments_lexer": "ipython2",
   "version": "2.7.6"
  }
 },
 "nbformat": 4,
 "nbformat_minor": 0
}